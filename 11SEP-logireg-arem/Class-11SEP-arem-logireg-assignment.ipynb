{
 "cells": [
  {
   "cell_type": "markdown",
   "metadata": {},
   "source": [
    "### Activity Recognition system based on Multisensor data fusion (AReM) Experiment \n",
    "\n",
    "**Task Logistic Regression**\n",
    "- 1. WAP to read folder name and make a label in the csv with folder name \n",
    "- 2. Remove unnecessary info in Automated way \n",
    "- 3. No other algorithm must be used other than Logistic Regression \n",
    "- 4. Try to utilize multiple solvers and make multiple models \n",
    "- 5. Provide the best models \n",
    "- 6. EDA and all must be done accordingly \n",
    "- Note: No manual approaches will be appreciated"
   ]
  },
  {
   "cell_type": "code",
   "execution_count": 161,
   "metadata": {},
   "outputs": [],
   "source": [
    "import pandas as pd \n",
    "import numpy as np \n",
    "from sklearn.preprocessing import StandardScaler \n",
    "from sklearn.linear_model import Ridge,Lasso,RidgeCV, LassoCV, ElasticNet, ElasticNetCV, LogisticRegression\n",
    "from sklearn.model_selection import train_test_split \n",
    "from statsmodels.stats.outliers_influence import variance_inflation_factor \n",
    "from sklearn.metrics import accuracy_score, confusion_matrix, roc_curve, roc_auc_score \n",
    "import matplotlib.pyplot as plt \n",
    "from pandas_profiling import ProfileReport \n",
    "import seaborn as sns\n",
    "import pickle\n",
    "import os,csv\n",
    "from sklearn.preprocessing import LabelEncoder\n",
    "from sklearn.metrics import classification_report\n",
    "import scipy.stats as stats"
   ]
  },
  {
   "cell_type": "code",
   "execution_count": 162,
   "metadata": {},
   "outputs": [
    {
     "name": "stdout",
     "output_type": "stream",
     "text": [
      "Folder Name:\t bending1\n",
      "csv file found:\t C:\\Users\\ashok\\OneDrive\\Moved\\Trainings\\1.iNeuron\\1.Full_Stack_DataScience-iNeuron\\Assignments_Class\\11SEP-logireg\\AReM\\bending1\\dataset1.csv\n",
      "csv file found:\t C:\\Users\\ashok\\OneDrive\\Moved\\Trainings\\1.iNeuron\\1.Full_Stack_DataScience-iNeuron\\Assignments_Class\\11SEP-logireg\\AReM\\bending1\\dataset2.csv\n",
      "csv file found:\t C:\\Users\\ashok\\OneDrive\\Moved\\Trainings\\1.iNeuron\\1.Full_Stack_DataScience-iNeuron\\Assignments_Class\\11SEP-logireg\\AReM\\bending1\\dataset3.csv\n",
      "csv file found:\t C:\\Users\\ashok\\OneDrive\\Moved\\Trainings\\1.iNeuron\\1.Full_Stack_DataScience-iNeuron\\Assignments_Class\\11SEP-logireg\\AReM\\bending1\\dataset4.csv\n",
      "csv file found:\t C:\\Users\\ashok\\OneDrive\\Moved\\Trainings\\1.iNeuron\\1.Full_Stack_DataScience-iNeuron\\Assignments_Class\\11SEP-logireg\\AReM\\bending1\\dataset5.csv\n",
      "csv file found:\t C:\\Users\\ashok\\OneDrive\\Moved\\Trainings\\1.iNeuron\\1.Full_Stack_DataScience-iNeuron\\Assignments_Class\\11SEP-logireg\\AReM\\bending1\\dataset6.csv\n",
      "csv file found:\t C:\\Users\\ashok\\OneDrive\\Moved\\Trainings\\1.iNeuron\\1.Full_Stack_DataScience-iNeuron\\Assignments_Class\\11SEP-logireg\\AReM\\bending1\\dataset7.csv\n",
      "Total files in bending1 folder found:7\n",
      "Folder Name:\t bending2\n",
      "csv file found:\t C:\\Users\\ashok\\OneDrive\\Moved\\Trainings\\1.iNeuron\\1.Full_Stack_DataScience-iNeuron\\Assignments_Class\\11SEP-logireg\\AReM\\bending2\\dataset1.csv\n",
      "csv file found:\t C:\\Users\\ashok\\OneDrive\\Moved\\Trainings\\1.iNeuron\\1.Full_Stack_DataScience-iNeuron\\Assignments_Class\\11SEP-logireg\\AReM\\bending2\\dataset2.csv\n",
      "csv file found:\t C:\\Users\\ashok\\OneDrive\\Moved\\Trainings\\1.iNeuron\\1.Full_Stack_DataScience-iNeuron\\Assignments_Class\\11SEP-logireg\\AReM\\bending2\\dataset3.csv\n",
      "csv file found:\t C:\\Users\\ashok\\OneDrive\\Moved\\Trainings\\1.iNeuron\\1.Full_Stack_DataScience-iNeuron\\Assignments_Class\\11SEP-logireg\\AReM\\bending2\\dataset4.csv\n",
      "csv file found:\t C:\\Users\\ashok\\OneDrive\\Moved\\Trainings\\1.iNeuron\\1.Full_Stack_DataScience-iNeuron\\Assignments_Class\\11SEP-logireg\\AReM\\bending2\\dataset5.csv\n",
      "csv file found:\t C:\\Users\\ashok\\OneDrive\\Moved\\Trainings\\1.iNeuron\\1.Full_Stack_DataScience-iNeuron\\Assignments_Class\\11SEP-logireg\\AReM\\bending2\\dataset6.csv\n",
      "Total files in bending2 folder found:6\n",
      "Folder Name:\t cycling\n",
      "csv file found:\t C:\\Users\\ashok\\OneDrive\\Moved\\Trainings\\1.iNeuron\\1.Full_Stack_DataScience-iNeuron\\Assignments_Class\\11SEP-logireg\\AReM\\cycling\\dataset1.csv\n",
      "csv file found:\t C:\\Users\\ashok\\OneDrive\\Moved\\Trainings\\1.iNeuron\\1.Full_Stack_DataScience-iNeuron\\Assignments_Class\\11SEP-logireg\\AReM\\cycling\\dataset10.csv\n",
      "csv file found:\t C:\\Users\\ashok\\OneDrive\\Moved\\Trainings\\1.iNeuron\\1.Full_Stack_DataScience-iNeuron\\Assignments_Class\\11SEP-logireg\\AReM\\cycling\\dataset11.csv\n",
      "csv file found:\t C:\\Users\\ashok\\OneDrive\\Moved\\Trainings\\1.iNeuron\\1.Full_Stack_DataScience-iNeuron\\Assignments_Class\\11SEP-logireg\\AReM\\cycling\\dataset12.csv\n",
      "csv file found:\t C:\\Users\\ashok\\OneDrive\\Moved\\Trainings\\1.iNeuron\\1.Full_Stack_DataScience-iNeuron\\Assignments_Class\\11SEP-logireg\\AReM\\cycling\\dataset13.csv\n",
      "csv file found:\t C:\\Users\\ashok\\OneDrive\\Moved\\Trainings\\1.iNeuron\\1.Full_Stack_DataScience-iNeuron\\Assignments_Class\\11SEP-logireg\\AReM\\cycling\\dataset14.csv\n",
      "csv file found:\t C:\\Users\\ashok\\OneDrive\\Moved\\Trainings\\1.iNeuron\\1.Full_Stack_DataScience-iNeuron\\Assignments_Class\\11SEP-logireg\\AReM\\cycling\\dataset15.csv\n",
      "csv file found:\t C:\\Users\\ashok\\OneDrive\\Moved\\Trainings\\1.iNeuron\\1.Full_Stack_DataScience-iNeuron\\Assignments_Class\\11SEP-logireg\\AReM\\cycling\\dataset2.csv\n",
      "csv file found:\t C:\\Users\\ashok\\OneDrive\\Moved\\Trainings\\1.iNeuron\\1.Full_Stack_DataScience-iNeuron\\Assignments_Class\\11SEP-logireg\\AReM\\cycling\\dataset3.csv\n",
      "csv file found:\t C:\\Users\\ashok\\OneDrive\\Moved\\Trainings\\1.iNeuron\\1.Full_Stack_DataScience-iNeuron\\Assignments_Class\\11SEP-logireg\\AReM\\cycling\\dataset4.csv\n",
      "csv file found:\t C:\\Users\\ashok\\OneDrive\\Moved\\Trainings\\1.iNeuron\\1.Full_Stack_DataScience-iNeuron\\Assignments_Class\\11SEP-logireg\\AReM\\cycling\\dataset5.csv\n",
      "csv file found:\t C:\\Users\\ashok\\OneDrive\\Moved\\Trainings\\1.iNeuron\\1.Full_Stack_DataScience-iNeuron\\Assignments_Class\\11SEP-logireg\\AReM\\cycling\\dataset6.csv\n",
      "csv file found:\t C:\\Users\\ashok\\OneDrive\\Moved\\Trainings\\1.iNeuron\\1.Full_Stack_DataScience-iNeuron\\Assignments_Class\\11SEP-logireg\\AReM\\cycling\\dataset7.csv\n",
      "csv file found:\t C:\\Users\\ashok\\OneDrive\\Moved\\Trainings\\1.iNeuron\\1.Full_Stack_DataScience-iNeuron\\Assignments_Class\\11SEP-logireg\\AReM\\cycling\\dataset8.csv\n",
      "csv file found:\t C:\\Users\\ashok\\OneDrive\\Moved\\Trainings\\1.iNeuron\\1.Full_Stack_DataScience-iNeuron\\Assignments_Class\\11SEP-logireg\\AReM\\cycling\\dataset9.csv\n",
      "Total files in cycling folder found:15\n",
      "Folder Name:\t lying\n",
      "csv file found:\t C:\\Users\\ashok\\OneDrive\\Moved\\Trainings\\1.iNeuron\\1.Full_Stack_DataScience-iNeuron\\Assignments_Class\\11SEP-logireg\\AReM\\lying\\dataset1.csv\n",
      "csv file found:\t C:\\Users\\ashok\\OneDrive\\Moved\\Trainings\\1.iNeuron\\1.Full_Stack_DataScience-iNeuron\\Assignments_Class\\11SEP-logireg\\AReM\\lying\\dataset10.csv\n",
      "csv file found:\t C:\\Users\\ashok\\OneDrive\\Moved\\Trainings\\1.iNeuron\\1.Full_Stack_DataScience-iNeuron\\Assignments_Class\\11SEP-logireg\\AReM\\lying\\dataset11.csv\n",
      "csv file found:\t C:\\Users\\ashok\\OneDrive\\Moved\\Trainings\\1.iNeuron\\1.Full_Stack_DataScience-iNeuron\\Assignments_Class\\11SEP-logireg\\AReM\\lying\\dataset12.csv\n",
      "csv file found:\t C:\\Users\\ashok\\OneDrive\\Moved\\Trainings\\1.iNeuron\\1.Full_Stack_DataScience-iNeuron\\Assignments_Class\\11SEP-logireg\\AReM\\lying\\dataset13.csv\n",
      "csv file found:\t C:\\Users\\ashok\\OneDrive\\Moved\\Trainings\\1.iNeuron\\1.Full_Stack_DataScience-iNeuron\\Assignments_Class\\11SEP-logireg\\AReM\\lying\\dataset14.csv\n",
      "csv file found:\t C:\\Users\\ashok\\OneDrive\\Moved\\Trainings\\1.iNeuron\\1.Full_Stack_DataScience-iNeuron\\Assignments_Class\\11SEP-logireg\\AReM\\lying\\dataset15.csv\n",
      "csv file found:\t C:\\Users\\ashok\\OneDrive\\Moved\\Trainings\\1.iNeuron\\1.Full_Stack_DataScience-iNeuron\\Assignments_Class\\11SEP-logireg\\AReM\\lying\\dataset2.csv\n",
      "csv file found:\t C:\\Users\\ashok\\OneDrive\\Moved\\Trainings\\1.iNeuron\\1.Full_Stack_DataScience-iNeuron\\Assignments_Class\\11SEP-logireg\\AReM\\lying\\dataset3.csv\n",
      "csv file found:\t C:\\Users\\ashok\\OneDrive\\Moved\\Trainings\\1.iNeuron\\1.Full_Stack_DataScience-iNeuron\\Assignments_Class\\11SEP-logireg\\AReM\\lying\\dataset4.csv\n",
      "csv file found:\t C:\\Users\\ashok\\OneDrive\\Moved\\Trainings\\1.iNeuron\\1.Full_Stack_DataScience-iNeuron\\Assignments_Class\\11SEP-logireg\\AReM\\lying\\dataset5.csv\n",
      "csv file found:\t C:\\Users\\ashok\\OneDrive\\Moved\\Trainings\\1.iNeuron\\1.Full_Stack_DataScience-iNeuron\\Assignments_Class\\11SEP-logireg\\AReM\\lying\\dataset6.csv\n",
      "csv file found:\t C:\\Users\\ashok\\OneDrive\\Moved\\Trainings\\1.iNeuron\\1.Full_Stack_DataScience-iNeuron\\Assignments_Class\\11SEP-logireg\\AReM\\lying\\dataset7.csv\n",
      "csv file found:\t C:\\Users\\ashok\\OneDrive\\Moved\\Trainings\\1.iNeuron\\1.Full_Stack_DataScience-iNeuron\\Assignments_Class\\11SEP-logireg\\AReM\\lying\\dataset8.csv\n",
      "csv file found:\t C:\\Users\\ashok\\OneDrive\\Moved\\Trainings\\1.iNeuron\\1.Full_Stack_DataScience-iNeuron\\Assignments_Class\\11SEP-logireg\\AReM\\lying\\dataset9.csv\n",
      "Total files in lying folder found:15\n",
      "Folder Name:\t sitting\n",
      "csv file found:\t C:\\Users\\ashok\\OneDrive\\Moved\\Trainings\\1.iNeuron\\1.Full_Stack_DataScience-iNeuron\\Assignments_Class\\11SEP-logireg\\AReM\\sitting\\dataset1.csv\n",
      "csv file found:\t C:\\Users\\ashok\\OneDrive\\Moved\\Trainings\\1.iNeuron\\1.Full_Stack_DataScience-iNeuron\\Assignments_Class\\11SEP-logireg\\AReM\\sitting\\dataset10.csv\n",
      "csv file found:\t C:\\Users\\ashok\\OneDrive\\Moved\\Trainings\\1.iNeuron\\1.Full_Stack_DataScience-iNeuron\\Assignments_Class\\11SEP-logireg\\AReM\\sitting\\dataset11.csv\n",
      "csv file found:\t C:\\Users\\ashok\\OneDrive\\Moved\\Trainings\\1.iNeuron\\1.Full_Stack_DataScience-iNeuron\\Assignments_Class\\11SEP-logireg\\AReM\\sitting\\dataset12.csv\n",
      "csv file found:\t C:\\Users\\ashok\\OneDrive\\Moved\\Trainings\\1.iNeuron\\1.Full_Stack_DataScience-iNeuron\\Assignments_Class\\11SEP-logireg\\AReM\\sitting\\dataset13.csv\n",
      "csv file found:\t C:\\Users\\ashok\\OneDrive\\Moved\\Trainings\\1.iNeuron\\1.Full_Stack_DataScience-iNeuron\\Assignments_Class\\11SEP-logireg\\AReM\\sitting\\dataset14.csv\n",
      "csv file found:\t C:\\Users\\ashok\\OneDrive\\Moved\\Trainings\\1.iNeuron\\1.Full_Stack_DataScience-iNeuron\\Assignments_Class\\11SEP-logireg\\AReM\\sitting\\dataset15.csv\n",
      "csv file found:\t"
     ]
    },
    {
     "name": "stderr",
     "output_type": "stream",
     "text": [
      "b'Skipping line 485: expected 7 fields, saw 8\\n'\n",
      "b'Skipping line 485: expected 7 fields, saw 8\\n'\n"
     ]
    },
    {
     "name": "stdout",
     "output_type": "stream",
     "text": [
      " C:\\Users\\ashok\\OneDrive\\Moved\\Trainings\\1.iNeuron\\1.Full_Stack_DataScience-iNeuron\\Assignments_Class\\11SEP-logireg\\AReM\\sitting\\dataset2.csv\n",
      "csv file found:\t C:\\Users\\ashok\\OneDrive\\Moved\\Trainings\\1.iNeuron\\1.Full_Stack_DataScience-iNeuron\\Assignments_Class\\11SEP-logireg\\AReM\\sitting\\dataset3.csv\n",
      "csv file found:\t C:\\Users\\ashok\\OneDrive\\Moved\\Trainings\\1.iNeuron\\1.Full_Stack_DataScience-iNeuron\\Assignments_Class\\11SEP-logireg\\AReM\\sitting\\dataset4.csv\n",
      "csv file found:\t C:\\Users\\ashok\\OneDrive\\Moved\\Trainings\\1.iNeuron\\1.Full_Stack_DataScience-iNeuron\\Assignments_Class\\11SEP-logireg\\AReM\\sitting\\dataset5.csv\n",
      "csv file found:\t C:\\Users\\ashok\\OneDrive\\Moved\\Trainings\\1.iNeuron\\1.Full_Stack_DataScience-iNeuron\\Assignments_Class\\11SEP-logireg\\AReM\\sitting\\dataset6.csv\n",
      "csv file found:\t C:\\Users\\ashok\\OneDrive\\Moved\\Trainings\\1.iNeuron\\1.Full_Stack_DataScience-iNeuron\\Assignments_Class\\11SEP-logireg\\AReM\\sitting\\dataset7.csv\n",
      "csv file found:\t C:\\Users\\ashok\\OneDrive\\Moved\\Trainings\\1.iNeuron\\1.Full_Stack_DataScience-iNeuron\\Assignments_Class\\11SEP-logireg\\AReM\\sitting\\dataset8.csv\n",
      "csv file found:\t C:\\Users\\ashok\\OneDrive\\Moved\\Trainings\\1.iNeuron\\1.Full_Stack_DataScience-iNeuron\\Assignments_Class\\11SEP-logireg\\AReM\\sitting\\dataset9.csv\n",
      "Total files in sitting folder found:15\n",
      "Folder Name:\t standing\n",
      "csv file found:\t C:\\Users\\ashok\\OneDrive\\Moved\\Trainings\\1.iNeuron\\1.Full_Stack_DataScience-iNeuron\\Assignments_Class\\11SEP-logireg\\AReM\\standing\\dataset1.csv\n",
      "csv file found:\t C:\\Users\\ashok\\OneDrive\\Moved\\Trainings\\1.iNeuron\\1.Full_Stack_DataScience-iNeuron\\Assignments_Class\\11SEP-logireg\\AReM\\standing\\dataset10.csv\n",
      "csv file found:\t C:\\Users\\ashok\\OneDrive\\Moved\\Trainings\\1.iNeuron\\1.Full_Stack_DataScience-iNeuron\\Assignments_Class\\11SEP-logireg\\AReM\\standing\\dataset11.csv\n",
      "csv file found:\t C:\\Users\\ashok\\OneDrive\\Moved\\Trainings\\1.iNeuron\\1.Full_Stack_DataScience-iNeuron\\Assignments_Class\\11SEP-logireg\\AReM\\standing\\dataset12.csv\n",
      "csv file found:\t C:\\Users\\ashok\\OneDrive\\Moved\\Trainings\\1.iNeuron\\1.Full_Stack_DataScience-iNeuron\\Assignments_Class\\11SEP-logireg\\AReM\\standing\\dataset13.csv\n",
      "csv file found:\t C:\\Users\\ashok\\OneDrive\\Moved\\Trainings\\1.iNeuron\\1.Full_Stack_DataScience-iNeuron\\Assignments_Class\\11SEP-logireg\\AReM\\standing\\dataset14.csv\n",
      "csv file found:\t C:\\Users\\ashok\\OneDrive\\Moved\\Trainings\\1.iNeuron\\1.Full_Stack_DataScience-iNeuron\\Assignments_Class\\11SEP-logireg\\AReM\\standing\\dataset15.csv\n",
      "csv file found:\t C:\\Users\\ashok\\OneDrive\\Moved\\Trainings\\1.iNeuron\\1.Full_Stack_DataScience-iNeuron\\Assignments_Class\\11SEP-logireg\\AReM\\standing\\dataset2.csv\n",
      "csv file found:\t C:\\Users\\ashok\\OneDrive\\Moved\\Trainings\\1.iNeuron\\1.Full_Stack_DataScience-iNeuron\\Assignments_Class\\11SEP-logireg\\AReM\\standing\\dataset3.csv\n",
      "csv file found:\t C:\\Users\\ashok\\OneDrive\\Moved\\Trainings\\1.iNeuron\\1.Full_Stack_DataScience-iNeuron\\Assignments_Class\\11SEP-logireg\\AReM\\standing\\dataset4.csv\n",
      "csv file found:\t C:\\Users\\ashok\\OneDrive\\Moved\\Trainings\\1.iNeuron\\1.Full_Stack_DataScience-iNeuron\\Assignments_Class\\11SEP-logireg\\AReM\\standing\\dataset5.csv\n",
      "csv file found:\t C:\\Users\\ashok\\OneDrive\\Moved\\Trainings\\1.iNeuron\\1.Full_Stack_DataScience-iNeuron\\Assignments_Class\\11SEP-logireg\\AReM\\standing\\dataset6.csv\n",
      "csv file found:\t C:\\Users\\ashok\\OneDrive\\Moved\\Trainings\\1.iNeuron\\1.Full_Stack_DataScience-iNeuron\\Assignments_Class\\11SEP-logireg\\AReM\\standing\\dataset7.csv\n",
      "csv file found:\t C:\\Users\\ashok\\OneDrive\\Moved\\Trainings\\1.iNeuron\\1.Full_Stack_DataScience-iNeuron\\Assignments_Class\\11SEP-logireg\\AReM\\standing\\dataset8.csv\n",
      "csv file found:\t C:\\Users\\ashok\\OneDrive\\Moved\\Trainings\\1.iNeuron\\1.Full_Stack_DataScience-iNeuron\\Assignments_Class\\11SEP-logireg\\AReM\\standing\\dataset9.csv\n",
      "Total files in standing folder found:15\n",
      "Folder Name:\t walking\n",
      "csv file found:\t C:\\Users\\ashok\\OneDrive\\Moved\\Trainings\\1.iNeuron\\1.Full_Stack_DataScience-iNeuron\\Assignments_Class\\11SEP-logireg\\AReM\\walking\\dataset1.csv\n",
      "csv file found:\t C:\\Users\\ashok\\OneDrive\\Moved\\Trainings\\1.iNeuron\\1.Full_Stack_DataScience-iNeuron\\Assignments_Class\\11SEP-logireg\\AReM\\walking\\dataset10.csv\n",
      "csv file found:\t C:\\Users\\ashok\\OneDrive\\Moved\\Trainings\\1.iNeuron\\1.Full_Stack_DataScience-iNeuron\\Assignments_Class\\11SEP-logireg\\AReM\\walking\\dataset11.csv\n",
      "csv file found:\t C:\\Users\\ashok\\OneDrive\\Moved\\Trainings\\1.iNeuron\\1.Full_Stack_DataScience-iNeuron\\Assignments_Class\\11SEP-logireg\\AReM\\walking\\dataset12.csv\n",
      "csv file found:\t C:\\Users\\ashok\\OneDrive\\Moved\\Trainings\\1.iNeuron\\1.Full_Stack_DataScience-iNeuron\\Assignments_Class\\11SEP-logireg\\AReM\\walking\\dataset13.csv\n",
      "csv file found:\t C:\\Users\\ashok\\OneDrive\\Moved\\Trainings\\1.iNeuron\\1.Full_Stack_DataScience-iNeuron\\Assignments_Class\\11SEP-logireg\\AReM\\walking\\dataset14.csv\n",
      "csv file found:\t C:\\Users\\ashok\\OneDrive\\Moved\\Trainings\\1.iNeuron\\1.Full_Stack_DataScience-iNeuron\\Assignments_Class\\11SEP-logireg\\AReM\\walking\\dataset15.csv\n",
      "csv file found:\t C:\\Users\\ashok\\OneDrive\\Moved\\Trainings\\1.iNeuron\\1.Full_Stack_DataScience-iNeuron\\Assignments_Class\\11SEP-logireg\\AReM\\walking\\dataset2.csv\n",
      "csv file found:\t C:\\Users\\ashok\\OneDrive\\Moved\\Trainings\\1.iNeuron\\1.Full_Stack_DataScience-iNeuron\\Assignments_Class\\11SEP-logireg\\AReM\\walking\\dataset3.csv\n",
      "csv file found:\t C:\\Users\\ashok\\OneDrive\\Moved\\Trainings\\1.iNeuron\\1.Full_Stack_DataScience-iNeuron\\Assignments_Class\\11SEP-logireg\\AReM\\walking\\dataset4.csv\n",
      "csv file found:\t C:\\Users\\ashok\\OneDrive\\Moved\\Trainings\\1.iNeuron\\1.Full_Stack_DataScience-iNeuron\\Assignments_Class\\11SEP-logireg\\AReM\\walking\\dataset5.csv\n",
      "csv file found:\t C:\\Users\\ashok\\OneDrive\\Moved\\Trainings\\1.iNeuron\\1.Full_Stack_DataScience-iNeuron\\Assignments_Class\\11SEP-logireg\\AReM\\walking\\dataset6.csv\n",
      "csv file found:\t C:\\Users\\ashok\\OneDrive\\Moved\\Trainings\\1.iNeuron\\1.Full_Stack_DataScience-iNeuron\\Assignments_Class\\11SEP-logireg\\AReM\\walking\\dataset7.csv\n",
      "csv file found:\t C:\\Users\\ashok\\OneDrive\\Moved\\Trainings\\1.iNeuron\\1.Full_Stack_DataScience-iNeuron\\Assignments_Class\\11SEP-logireg\\AReM\\walking\\dataset8.csv\n",
      "csv file found:\t C:\\Users\\ashok\\OneDrive\\Moved\\Trainings\\1.iNeuron\\1.Full_Stack_DataScience-iNeuron\\Assignments_Class\\11SEP-logireg\\AReM\\walking\\dataset9.csv\n",
      "Total files in walking folder found:15\n",
      "Total files found:\t 88\n"
     ]
    }
   ],
   "source": [
    "location = os.getcwd() + \"\\AReM\"  # get present working directory location here\n",
    "counter = 0 #keep a count of all files found\n",
    "#csvfiles = [] #list to store all csv files found at location\n",
    "total_file_cnt=0\n",
    "df_all = pd.DataFrame()\n",
    "\n",
    "for fol in next(os.walk('AReM'))[1]:\n",
    "    print (\"Folder Name:\\t\", fol)\n",
    "    \n",
    "    counter=0\n",
    "    for file in os.listdir(os.getcwd() + \"\\AReM\" + \"\\\\\" + fol):    \n",
    "        filepath=\"\"\n",
    "        try:\n",
    "            if file.endswith(\".csv\"):     \n",
    "                filepath=os.getcwd() + \"\\AReM\" + \"\\\\\" + fol + \"\\\\\" + file\n",
    "                print (\"csv file found:\\t\", filepath)\n",
    "                #csvfiles.append(str(file))                \n",
    "                df = pd.read_csv(filepath,skiprows=4,encoding='utf-8', error_bad_lines=False,quoting=csv.QUOTE_NONE)\n",
    "                df[\"target\"] = fol.replace(\"1\",\"\").replace(\"2\",\"\")                \n",
    "                df_all = df_all.append(df)                \n",
    "                #print (\"df shape:\\t\", df.shape)\n",
    "                counter = counter+1\n",
    "                total_file_cnt = total_file_cnt + 1            \n",
    "        except Exception as e:\n",
    "            print(e)\n",
    "            print( \"No files found here!\")\n",
    "\n",
    "    print (f\"Total files in {fol} folder found:{counter}\".format(fol=fol,counter=counter))\n",
    "print (\"Total files found:\\t\", total_file_cnt)\n"
   ]
  },
  {
   "cell_type": "code",
   "execution_count": 163,
   "metadata": {},
   "outputs": [
    {
     "data": {
      "text/plain": [
       "Index(['# Columns: time', 'avg_rss12', 'var_rss12', 'avg_rss13', 'var_rss13',\n",
       "       'avg_rss23', 'var_rss23', 'target'],\n",
       "      dtype='object')"
      ]
     },
     "execution_count": 163,
     "metadata": {},
     "output_type": "execute_result"
    }
   ],
   "source": [
    "df_all.columns"
   ]
  },
  {
   "cell_type": "code",
   "execution_count": 164,
   "metadata": {},
   "outputs": [
    {
     "data": {
      "text/html": [
       "<div>\n",
       "<style scoped>\n",
       "    .dataframe tbody tr th:only-of-type {\n",
       "        vertical-align: middle;\n",
       "    }\n",
       "\n",
       "    .dataframe tbody tr th {\n",
       "        vertical-align: top;\n",
       "    }\n",
       "\n",
       "    .dataframe thead th {\n",
       "        text-align: right;\n",
       "    }\n",
       "</style>\n",
       "<table border=\"1\" class=\"dataframe\">\n",
       "  <thead>\n",
       "    <tr style=\"text-align: right;\">\n",
       "      <th></th>\n",
       "      <th># Columns: time</th>\n",
       "      <th>avg_rss12</th>\n",
       "      <th>var_rss12</th>\n",
       "      <th>avg_rss13</th>\n",
       "      <th>var_rss13</th>\n",
       "      <th>avg_rss23</th>\n",
       "      <th>var_rss23</th>\n",
       "      <th>target</th>\n",
       "    </tr>\n",
       "  </thead>\n",
       "  <tbody>\n",
       "    <tr>\n",
       "      <th>0</th>\n",
       "      <td>0</td>\n",
       "      <td>39.25</td>\n",
       "      <td>0.43</td>\n",
       "      <td>22.75</td>\n",
       "      <td>0.43</td>\n",
       "      <td>33.75</td>\n",
       "      <td>1.30</td>\n",
       "      <td>bending</td>\n",
       "    </tr>\n",
       "    <tr>\n",
       "      <th>1</th>\n",
       "      <td>250</td>\n",
       "      <td>39.25</td>\n",
       "      <td>0.43</td>\n",
       "      <td>23.00</td>\n",
       "      <td>0.00</td>\n",
       "      <td>33.00</td>\n",
       "      <td>0.00</td>\n",
       "      <td>bending</td>\n",
       "    </tr>\n",
       "    <tr>\n",
       "      <th>2</th>\n",
       "      <td>500</td>\n",
       "      <td>39.25</td>\n",
       "      <td>0.43</td>\n",
       "      <td>23.25</td>\n",
       "      <td>0.43</td>\n",
       "      <td>33.00</td>\n",
       "      <td>0.00</td>\n",
       "      <td>bending</td>\n",
       "    </tr>\n",
       "    <tr>\n",
       "      <th>3</th>\n",
       "      <td>750</td>\n",
       "      <td>39.50</td>\n",
       "      <td>0.50</td>\n",
       "      <td>23.00</td>\n",
       "      <td>0.71</td>\n",
       "      <td>33.00</td>\n",
       "      <td>0.00</td>\n",
       "      <td>bending</td>\n",
       "    </tr>\n",
       "    <tr>\n",
       "      <th>4</th>\n",
       "      <td>1000</td>\n",
       "      <td>39.50</td>\n",
       "      <td>0.50</td>\n",
       "      <td>24.00</td>\n",
       "      <td>0.00</td>\n",
       "      <td>33.00</td>\n",
       "      <td>0.00</td>\n",
       "      <td>bending</td>\n",
       "    </tr>\n",
       "    <tr>\n",
       "      <th>...</th>\n",
       "      <td>...</td>\n",
       "      <td>...</td>\n",
       "      <td>...</td>\n",
       "      <td>...</td>\n",
       "      <td>...</td>\n",
       "      <td>...</td>\n",
       "      <td>...</td>\n",
       "      <td>...</td>\n",
       "    </tr>\n",
       "    <tr>\n",
       "      <th>475</th>\n",
       "      <td>118750</td>\n",
       "      <td>31.50</td>\n",
       "      <td>1.66</td>\n",
       "      <td>12.50</td>\n",
       "      <td>3.20</td>\n",
       "      <td>14.25</td>\n",
       "      <td>4.44</td>\n",
       "      <td>walking</td>\n",
       "    </tr>\n",
       "    <tr>\n",
       "      <th>476</th>\n",
       "      <td>119000</td>\n",
       "      <td>27.33</td>\n",
       "      <td>1.25</td>\n",
       "      <td>11.33</td>\n",
       "      <td>0.94</td>\n",
       "      <td>20.00</td>\n",
       "      <td>4.00</td>\n",
       "      <td>walking</td>\n",
       "    </tr>\n",
       "    <tr>\n",
       "      <th>477</th>\n",
       "      <td>119250</td>\n",
       "      <td>37.80</td>\n",
       "      <td>7.68</td>\n",
       "      <td>14.20</td>\n",
       "      <td>2.48</td>\n",
       "      <td>17.25</td>\n",
       "      <td>0.83</td>\n",
       "      <td>walking</td>\n",
       "    </tr>\n",
       "    <tr>\n",
       "      <th>478</th>\n",
       "      <td>119500</td>\n",
       "      <td>33.75</td>\n",
       "      <td>1.30</td>\n",
       "      <td>15.75</td>\n",
       "      <td>5.21</td>\n",
       "      <td>16.50</td>\n",
       "      <td>2.69</td>\n",
       "      <td>walking</td>\n",
       "    </tr>\n",
       "    <tr>\n",
       "      <th>479</th>\n",
       "      <td>119750</td>\n",
       "      <td>32.67</td>\n",
       "      <td>3.09</td>\n",
       "      <td>18.67</td>\n",
       "      <td>0.47</td>\n",
       "      <td>14.00</td>\n",
       "      <td>3.16</td>\n",
       "      <td>walking</td>\n",
       "    </tr>\n",
       "  </tbody>\n",
       "</table>\n",
       "<p>42237 rows × 8 columns</p>\n",
       "</div>"
      ],
      "text/plain": [
       "    # Columns: time  avg_rss12  var_rss12  avg_rss13  var_rss13  avg_rss23  \\\n",
       "0                 0      39.25       0.43      22.75       0.43      33.75   \n",
       "1               250      39.25       0.43      23.00       0.00      33.00   \n",
       "2               500      39.25       0.43      23.25       0.43      33.00   \n",
       "3               750      39.50       0.50      23.00       0.71      33.00   \n",
       "4              1000      39.50       0.50      24.00       0.00      33.00   \n",
       "..              ...        ...        ...        ...        ...        ...   \n",
       "475          118750      31.50       1.66      12.50       3.20      14.25   \n",
       "476          119000      27.33       1.25      11.33       0.94      20.00   \n",
       "477          119250      37.80       7.68      14.20       2.48      17.25   \n",
       "478          119500      33.75       1.30      15.75       5.21      16.50   \n",
       "479          119750      32.67       3.09      18.67       0.47      14.00   \n",
       "\n",
       "     var_rss23   target  \n",
       "0         1.30  bending  \n",
       "1         0.00  bending  \n",
       "2         0.00  bending  \n",
       "3         0.00  bending  \n",
       "4         0.00  bending  \n",
       "..         ...      ...  \n",
       "475       4.44  walking  \n",
       "476       4.00  walking  \n",
       "477       0.83  walking  \n",
       "478       2.69  walking  \n",
       "479       3.16  walking  \n",
       "\n",
       "[42237 rows x 8 columns]"
      ]
     },
     "execution_count": 164,
     "metadata": {},
     "output_type": "execute_result"
    }
   ],
   "source": [
    "df_all"
   ]
  },
  {
   "cell_type": "code",
   "execution_count": 165,
   "metadata": {},
   "outputs": [
    {
     "name": "stdout",
     "output_type": "stream",
     "text": [
      "<class 'pandas.core.frame.DataFrame'>\n",
      "Int64Index: 42237 entries, 0 to 479\n",
      "Data columns (total 8 columns):\n",
      " #   Column           Non-Null Count  Dtype  \n",
      "---  ------           --------------  -----  \n",
      " 0   # Columns: time  42237 non-null  object \n",
      " 1   avg_rss12        41757 non-null  float64\n",
      " 2   var_rss12        41757 non-null  float64\n",
      " 3   avg_rss13        41757 non-null  float64\n",
      " 4   var_rss13        41757 non-null  float64\n",
      " 5   avg_rss23        41757 non-null  float64\n",
      " 6   var_rss23        41757 non-null  float64\n",
      " 7   target           42237 non-null  object \n",
      "dtypes: float64(6), object(2)\n",
      "memory usage: 2.9+ MB\n"
     ]
    }
   ],
   "source": [
    "df_all.info()"
   ]
  },
  {
   "cell_type": "code",
   "execution_count": 166,
   "metadata": {},
   "outputs": [
    {
     "data": {
      "text/plain": [
       "(42237, 8)"
      ]
     },
     "execution_count": 166,
     "metadata": {},
     "output_type": "execute_result"
    }
   ],
   "source": [
    "df_all.shape"
   ]
  },
  {
   "cell_type": "code",
   "execution_count": 167,
   "metadata": {
    "run_control": {
     "marked": true
    }
   },
   "outputs": [],
   "source": [
    "#df_all.to_csv(\"dataset_all.csv\")"
   ]
  },
  {
   "cell_type": "code",
   "execution_count": 170,
   "metadata": {},
   "outputs": [
    {
     "data": {
      "text/plain": [
       "target\n",
       "walking     7200\n",
       "standing    7200\n",
       "lying       7200\n",
       "sitting     7199\n",
       "cycling     7198\n",
       "bending     6240\n",
       "dtype: int64"
      ]
     },
     "execution_count": 170,
     "metadata": {},
     "output_type": "execute_result"
    }
   ],
   "source": [
    "df_all.value_counts(\"target\")"
   ]
  },
  {
   "cell_type": "code",
   "execution_count": 171,
   "metadata": {},
   "outputs": [
    {
     "data": {
      "text/plain": [
       "<AxesSubplot:xlabel='target'>"
      ]
     },
     "execution_count": 171,
     "metadata": {},
     "output_type": "execute_result"
    },
    {
     "data": {
      "image/png": "[encoded data removed]",
      "text/plain": [
       "<Figure size 432x288 with 1 Axes>"
      ]
     },
     "metadata": {
      "needs_background": "light"
     },
     "output_type": "display_data"
    }
   ],
   "source": [
    "df_all.value_counts(\"target\").plot(kind=\"bar\")"
   ]
  },
  {
   "cell_type": "code",
   "execution_count": 172,
   "metadata": {},
   "outputs": [
    {
     "data": {
      "text/plain": [
       "(42237, 8)"
      ]
     },
     "execution_count": 172,
     "metadata": {},
     "output_type": "execute_result"
    }
   ],
   "source": [
    "df_all.shape"
   ]
  },
  {
   "cell_type": "code",
   "execution_count": 173,
   "metadata": {},
   "outputs": [
    {
     "data": {
      "text/plain": [
       "Index(['# Columns: time', 'avg_rss12', 'var_rss12', 'avg_rss13', 'var_rss13',\n",
       "       'avg_rss23', 'var_rss23', 'target'],\n",
       "      dtype='object')"
      ]
     },
     "execution_count": 173,
     "metadata": {},
     "output_type": "execute_result"
    }
   ],
   "source": [
    "df_all.columns"
   ]
  },
  {
   "cell_type": "code",
   "execution_count": 174,
   "metadata": {},
   "outputs": [],
   "source": [
    "#We can drop the time column as there is significance in the experiment  \n",
    "df_all.drop(\"# Columns: time\",axis=1,inplace=True)"
   ]
  },
  {
   "cell_type": "code",
   "execution_count": 175,
   "metadata": {},
   "outputs": [
    {
     "data": {
      "text/html": [
       "<div>\n",
       "<style scoped>\n",
       "    .dataframe tbody tr th:only-of-type {\n",
       "        vertical-align: middle;\n",
       "    }\n",
       "\n",
       "    .dataframe tbody tr th {\n",
       "        vertical-align: top;\n",
       "    }\n",
       "\n",
       "    .dataframe thead th {\n",
       "        text-align: right;\n",
       "    }\n",
       "</style>\n",
       "<table border=\"1\" class=\"dataframe\">\n",
       "  <thead>\n",
       "    <tr style=\"text-align: right;\">\n",
       "      <th></th>\n",
       "      <th>avg_rss12</th>\n",
       "      <th>var_rss12</th>\n",
       "      <th>avg_rss13</th>\n",
       "      <th>var_rss13</th>\n",
       "      <th>avg_rss23</th>\n",
       "      <th>var_rss23</th>\n",
       "      <th>target</th>\n",
       "    </tr>\n",
       "  </thead>\n",
       "  <tbody>\n",
       "    <tr>\n",
       "      <th>0</th>\n",
       "      <td>39.25</td>\n",
       "      <td>0.43</td>\n",
       "      <td>22.75</td>\n",
       "      <td>0.43</td>\n",
       "      <td>33.75</td>\n",
       "      <td>1.30</td>\n",
       "      <td>bending</td>\n",
       "    </tr>\n",
       "    <tr>\n",
       "      <th>1</th>\n",
       "      <td>39.25</td>\n",
       "      <td>0.43</td>\n",
       "      <td>23.00</td>\n",
       "      <td>0.00</td>\n",
       "      <td>33.00</td>\n",
       "      <td>0.00</td>\n",
       "      <td>bending</td>\n",
       "    </tr>\n",
       "    <tr>\n",
       "      <th>2</th>\n",
       "      <td>39.25</td>\n",
       "      <td>0.43</td>\n",
       "      <td>23.25</td>\n",
       "      <td>0.43</td>\n",
       "      <td>33.00</td>\n",
       "      <td>0.00</td>\n",
       "      <td>bending</td>\n",
       "    </tr>\n",
       "    <tr>\n",
       "      <th>3</th>\n",
       "      <td>39.50</td>\n",
       "      <td>0.50</td>\n",
       "      <td>23.00</td>\n",
       "      <td>0.71</td>\n",
       "      <td>33.00</td>\n",
       "      <td>0.00</td>\n",
       "      <td>bending</td>\n",
       "    </tr>\n",
       "    <tr>\n",
       "      <th>4</th>\n",
       "      <td>39.50</td>\n",
       "      <td>0.50</td>\n",
       "      <td>24.00</td>\n",
       "      <td>0.00</td>\n",
       "      <td>33.00</td>\n",
       "      <td>0.00</td>\n",
       "      <td>bending</td>\n",
       "    </tr>\n",
       "    <tr>\n",
       "      <th>...</th>\n",
       "      <td>...</td>\n",
       "      <td>...</td>\n",
       "      <td>...</td>\n",
       "      <td>...</td>\n",
       "      <td>...</td>\n",
       "      <td>...</td>\n",
       "      <td>...</td>\n",
       "    </tr>\n",
       "    <tr>\n",
       "      <th>475</th>\n",
       "      <td>31.50</td>\n",
       "      <td>1.66</td>\n",
       "      <td>12.50</td>\n",
       "      <td>3.20</td>\n",
       "      <td>14.25</td>\n",
       "      <td>4.44</td>\n",
       "      <td>walking</td>\n",
       "    </tr>\n",
       "    <tr>\n",
       "      <th>476</th>\n",
       "      <td>27.33</td>\n",
       "      <td>1.25</td>\n",
       "      <td>11.33</td>\n",
       "      <td>0.94</td>\n",
       "      <td>20.00</td>\n",
       "      <td>4.00</td>\n",
       "      <td>walking</td>\n",
       "    </tr>\n",
       "    <tr>\n",
       "      <th>477</th>\n",
       "      <td>37.80</td>\n",
       "      <td>7.68</td>\n",
       "      <td>14.20</td>\n",
       "      <td>2.48</td>\n",
       "      <td>17.25</td>\n",
       "      <td>0.83</td>\n",
       "      <td>walking</td>\n",
       "    </tr>\n",
       "    <tr>\n",
       "      <th>478</th>\n",
       "      <td>33.75</td>\n",
       "      <td>1.30</td>\n",
       "      <td>15.75</td>\n",
       "      <td>5.21</td>\n",
       "      <td>16.50</td>\n",
       "      <td>2.69</td>\n",
       "      <td>walking</td>\n",
       "    </tr>\n",
       "    <tr>\n",
       "      <th>479</th>\n",
       "      <td>32.67</td>\n",
       "      <td>3.09</td>\n",
       "      <td>18.67</td>\n",
       "      <td>0.47</td>\n",
       "      <td>14.00</td>\n",
       "      <td>3.16</td>\n",
       "      <td>walking</td>\n",
       "    </tr>\n",
       "  </tbody>\n",
       "</table>\n",
       "<p>42237 rows × 7 columns</p>\n",
       "</div>"
      ],
      "text/plain": [
       "     avg_rss12  var_rss12  avg_rss13  var_rss13  avg_rss23  var_rss23   target\n",
       "0        39.25       0.43      22.75       0.43      33.75       1.30  bending\n",
       "1        39.25       0.43      23.00       0.00      33.00       0.00  bending\n",
       "2        39.25       0.43      23.25       0.43      33.00       0.00  bending\n",
       "3        39.50       0.50      23.00       0.71      33.00       0.00  bending\n",
       "4        39.50       0.50      24.00       0.00      33.00       0.00  bending\n",
       "..         ...        ...        ...        ...        ...        ...      ...\n",
       "475      31.50       1.66      12.50       3.20      14.25       4.44  walking\n",
       "476      27.33       1.25      11.33       0.94      20.00       4.00  walking\n",
       "477      37.80       7.68      14.20       2.48      17.25       0.83  walking\n",
       "478      33.75       1.30      15.75       5.21      16.50       2.69  walking\n",
       "479      32.67       3.09      18.67       0.47      14.00       3.16  walking\n",
       "\n",
       "[42237 rows x 7 columns]"
      ]
     },
     "execution_count": 175,
     "metadata": {},
     "output_type": "execute_result"
    }
   ],
   "source": [
    "df_all"
   ]
  },
  {
   "cell_type": "code",
   "execution_count": 176,
   "metadata": {},
   "outputs": [
    {
     "data": {
      "text/plain": [
       "avg_rss12    480\n",
       "var_rss12    480\n",
       "avg_rss13    480\n",
       "var_rss13    480\n",
       "avg_rss23    480\n",
       "var_rss23    480\n",
       "dtype: int64"
      ]
     },
     "execution_count": 176,
     "metadata": {},
     "output_type": "execute_result"
    }
   ],
   "source": [
    "above_0_missing = df_all.isnull().sum() > 0\n",
    "df_all.isnull().sum()[above_0_missing]"
   ]
  },
  {
   "cell_type": "code",
   "execution_count": 177,
   "metadata": {},
   "outputs": [],
   "source": [
    "df_all_profile=ProfileReport(df_all)"
   ]
  },
  {
   "cell_type": "code",
   "execution_count": 178,
   "metadata": {},
   "outputs": [
    {
     "data": {
      "application/vnd.jupyter.widget-view+json": {
       "model_id": "fb35f27d22b441b19ff7cfde1cc1b731",
       "version_major": 2,
       "version_minor": 0
      },
      "text/plain": [
       "HBox(children=(HTML(value='Summarize dataset'), FloatProgress(value=0.0, max=21.0), HTML(value='')))"
      ]
     },
     "metadata": {},
     "output_type": "display_data"
    },
    {
     "name": "stdout",
     "output_type": "stream",
     "text": [
      "\n"
     ]
    },
    {
     "data": {
      "application/vnd.jupyter.widget-view+json": {
       "model_id": "c429b814bd4f4e28a026dde95c00415c",
       "version_major": 2,
       "version_minor": 0
      },
      "text/plain": [
       "HBox(children=(HTML(value='Generate report structure'), FloatProgress(value=0.0, max=1.0), HTML(value='')))"
      ]
     },
     "metadata": {},
     "output_type": "display_data"
    },
    {
     "name": "stdout",
     "output_type": "stream",
     "text": [
      "\n"
     ]
    },
    {
     "data": {
      "application/vnd.jupyter.widget-view+json": {
       "model_id": "",
       "version_major": 2,
       "version_minor": 0
      },
      "text/plain": [
       "HBox(children=(HTML(value='Render widgets'), FloatProgress(value=0.0, max=1.0), HTML(value='')))"
      ]
     },
     "metadata": {},
     "output_type": "display_data"
    },
    {
     "data": {
      "application/vnd.jupyter.widget-view+json": {
       "model_id": "839016edc17c483f9302a5d96f3f51e7",
       "version_major": 2,
       "version_minor": 0
      },
      "text/plain": [
       "VBox(children=(Tab(children=(Tab(children=(GridBox(children=(VBox(children=(GridspecLayout(children=(HTML(valu…"
      ]
     },
     "metadata": {},
     "output_type": "display_data"
    }
   ],
   "source": [
    "df_all_profile.widgets"
   ]
  },
  {
   "cell_type": "markdown",
   "metadata": {},
   "source": [
    "**Handling null and zero values**"
   ]
  },
  {
   "cell_type": "code",
   "execution_count": 179,
   "metadata": {},
   "outputs": [],
   "source": [
    "def handling_null_zeros(df_all):     \n",
    "    df_all['avg_rss12'].fillna(df_all['avg_rss12'].mean(), inplace=True)\n",
    "    df_all['avg_rss12'] = df_all['avg_rss12'].replace(\n",
    "        0, df_all['avg_rss12'].mean())\n",
    "\n",
    "    df_all['var_rss12'].fillna(df_all['var_rss12'].mean(), inplace=True)\n",
    "    df_all['var_rss12'] = df_all['var_rss12'].replace(\n",
    "        0, df_all['var_rss12'].mean())\n",
    "\n",
    "    df_all['avg_rss13'].fillna(df_all['avg_rss13'].mean(), inplace=True)\n",
    "    df_all['avg_rss13'] = df_all['avg_rss13'].replace(\n",
    "        0, df_all['avg_rss13'].mean())\n",
    "\n",
    "    df_all['var_rss13'].fillna(df_all['var_rss13'].mean(), inplace=True)\n",
    "    df_all['var_rss13'] = df_all['var_rss13'].replace(\n",
    "        0, df_all['var_rss13'].mean())\n",
    "\n",
    "    df_all['avg_rss23'] = df_all['avg_rss23'].replace(\n",
    "        0, df_all['avg_rss23'].mean())\n",
    "    df_all['avg_rss23'].fillna(df_all['avg_rss23'].mean(), inplace=True)\n",
    "\n",
    "    df_all['var_rss23'] = df_all['var_rss23'].replace(\n",
    "        0, df_all['var_rss23'].mean())\n",
    "    df_all['var_rss23'].fillna(df_all['var_rss23'].mean(), inplace=True)\n",
    "\n",
    "\n",
    "handling_null_zeros(df_all)"
   ]
  },
  {
   "cell_type": "code",
   "execution_count": 180,
   "metadata": {},
   "outputs": [
    {
     "data": {
      "text/plain": [
       "Series([], dtype: int64)"
      ]
     },
     "execution_count": 180,
     "metadata": {},
     "output_type": "execute_result"
    }
   ],
   "source": [
    "above_0_missing = df_all.isnull().sum() > 0\n",
    "df_all.isnull().sum()[above_0_missing]"
   ]
  },
  {
   "cell_type": "code",
   "execution_count": 49,
   "metadata": {
    "run_control": {
     "marked": false
    }
   },
   "outputs": [],
   "source": [
    "#for col in ['avg_rss12','var_rss12','avg_rss13','var_rss13','avg_rss23','var_rss23']:\n",
    "#    df_all[col] = df_all[col].mean()            "
   ]
  },
  {
   "cell_type": "code",
   "execution_count": 181,
   "metadata": {},
   "outputs": [
    {
     "data": {
      "text/plain": [
       "['avg_rss12', 'var_rss12', 'avg_rss13', 'var_rss13', 'avg_rss23', 'var_rss23']"
      ]
     },
     "execution_count": 181,
     "metadata": {},
     "output_type": "execute_result"
    }
   ],
   "source": [
    "numerical_features = df_all.select_dtypes(include='number').columns.tolist()\n",
    "numerical_features"
   ]
  },
  {
   "cell_type": "code",
   "execution_count": null,
   "metadata": {},
   "outputs": [],
   "source": []
  },
  {
   "cell_type": "code",
   "execution_count": 182,
   "metadata": {},
   "outputs": [
    {
     "data": {
      "application/vnd.jupyter.widget-view+json": {
       "model_id": "111940ae5a1e421793b2044798a5a0e7",
       "version_major": 2,
       "version_minor": 0
      },
      "text/plain": [
       "HBox(children=(HTML(value='Summarize dataset'), FloatProgress(value=0.0, max=21.0), HTML(value='')))"
      ]
     },
     "metadata": {},
     "output_type": "display_data"
    },
    {
     "name": "stdout",
     "output_type": "stream",
     "text": [
      "\n"
     ]
    },
    {
     "data": {
      "application/vnd.jupyter.widget-view+json": {
       "model_id": "2530dce47bfa44e8a3511046d18ebdaf",
       "version_major": 2,
       "version_minor": 0
      },
      "text/plain": [
       "HBox(children=(HTML(value='Generate report structure'), FloatProgress(value=0.0, max=1.0), HTML(value='')))"
      ]
     },
     "metadata": {},
     "output_type": "display_data"
    },
    {
     "name": "stdout",
     "output_type": "stream",
     "text": [
      "\n"
     ]
    },
    {
     "data": {
      "application/vnd.jupyter.widget-view+json": {
       "model_id": "",
       "version_major": 2,
       "version_minor": 0
      },
      "text/plain": [
       "HBox(children=(HTML(value='Render widgets'), FloatProgress(value=0.0, max=1.0), HTML(value='')))"
      ]
     },
     "metadata": {},
     "output_type": "display_data"
    },
    {
     "data": {
      "application/vnd.jupyter.widget-view+json": {
       "model_id": "c1a24d8cc7714ef4a0f1e77b5a9dc982",
       "version_major": 2,
       "version_minor": 0
      },
      "text/plain": [
       "VBox(children=(Tab(children=(Tab(children=(GridBox(children=(VBox(children=(GridspecLayout(children=(HTML(valu…"
      ]
     },
     "metadata": {},
     "output_type": "display_data"
    }
   ],
   "source": [
    "df_all_profile1=ProfileReport(df_all)\n",
    "df_all_profile1.widgets"
   ]
  },
  {
   "cell_type": "code",
   "execution_count": 183,
   "metadata": {},
   "outputs": [
    {
     "data": {
      "text/html": [
       "<div>\n",
       "<style scoped>\n",
       "    .dataframe tbody tr th:only-of-type {\n",
       "        vertical-align: middle;\n",
       "    }\n",
       "\n",
       "    .dataframe tbody tr th {\n",
       "        vertical-align: top;\n",
       "    }\n",
       "\n",
       "    .dataframe thead th {\n",
       "        text-align: right;\n",
       "    }\n",
       "</style>\n",
       "<table border=\"1\" class=\"dataframe\">\n",
       "  <thead>\n",
       "    <tr style=\"text-align: right;\">\n",
       "      <th></th>\n",
       "      <th>avg_rss12</th>\n",
       "      <th>var_rss12</th>\n",
       "      <th>avg_rss13</th>\n",
       "      <th>var_rss13</th>\n",
       "      <th>avg_rss23</th>\n",
       "      <th>var_rss23</th>\n",
       "      <th>target</th>\n",
       "    </tr>\n",
       "  </thead>\n",
       "  <tbody>\n",
       "    <tr>\n",
       "      <th>0</th>\n",
       "      <td>39.25</td>\n",
       "      <td>0.43</td>\n",
       "      <td>22.75</td>\n",
       "      <td>0.430000</td>\n",
       "      <td>33.75</td>\n",
       "      <td>1.300000</td>\n",
       "      <td>bending</td>\n",
       "    </tr>\n",
       "    <tr>\n",
       "      <th>1</th>\n",
       "      <td>39.25</td>\n",
       "      <td>0.43</td>\n",
       "      <td>23.00</td>\n",
       "      <td>1.513225</td>\n",
       "      <td>33.00</td>\n",
       "      <td>1.631255</td>\n",
       "      <td>bending</td>\n",
       "    </tr>\n",
       "    <tr>\n",
       "      <th>2</th>\n",
       "      <td>39.25</td>\n",
       "      <td>0.43</td>\n",
       "      <td>23.25</td>\n",
       "      <td>0.430000</td>\n",
       "      <td>33.00</td>\n",
       "      <td>1.631255</td>\n",
       "      <td>bending</td>\n",
       "    </tr>\n",
       "    <tr>\n",
       "      <th>3</th>\n",
       "      <td>39.50</td>\n",
       "      <td>0.50</td>\n",
       "      <td>23.00</td>\n",
       "      <td>0.710000</td>\n",
       "      <td>33.00</td>\n",
       "      <td>1.631255</td>\n",
       "      <td>bending</td>\n",
       "    </tr>\n",
       "    <tr>\n",
       "      <th>4</th>\n",
       "      <td>39.50</td>\n",
       "      <td>0.50</td>\n",
       "      <td>24.00</td>\n",
       "      <td>1.513225</td>\n",
       "      <td>33.00</td>\n",
       "      <td>1.631255</td>\n",
       "      <td>bending</td>\n",
       "    </tr>\n",
       "    <tr>\n",
       "      <th>...</th>\n",
       "      <td>...</td>\n",
       "      <td>...</td>\n",
       "      <td>...</td>\n",
       "      <td>...</td>\n",
       "      <td>...</td>\n",
       "      <td>...</td>\n",
       "      <td>...</td>\n",
       "    </tr>\n",
       "    <tr>\n",
       "      <th>475</th>\n",
       "      <td>31.50</td>\n",
       "      <td>1.66</td>\n",
       "      <td>12.50</td>\n",
       "      <td>3.200000</td>\n",
       "      <td>14.25</td>\n",
       "      <td>4.440000</td>\n",
       "      <td>walking</td>\n",
       "    </tr>\n",
       "    <tr>\n",
       "      <th>476</th>\n",
       "      <td>27.33</td>\n",
       "      <td>1.25</td>\n",
       "      <td>11.33</td>\n",
       "      <td>0.940000</td>\n",
       "      <td>20.00</td>\n",
       "      <td>4.000000</td>\n",
       "      <td>walking</td>\n",
       "    </tr>\n",
       "    <tr>\n",
       "      <th>477</th>\n",
       "      <td>37.80</td>\n",
       "      <td>7.68</td>\n",
       "      <td>14.20</td>\n",
       "      <td>2.480000</td>\n",
       "      <td>17.25</td>\n",
       "      <td>0.830000</td>\n",
       "      <td>walking</td>\n",
       "    </tr>\n",
       "    <tr>\n",
       "      <th>478</th>\n",
       "      <td>33.75</td>\n",
       "      <td>1.30</td>\n",
       "      <td>15.75</td>\n",
       "      <td>5.210000</td>\n",
       "      <td>16.50</td>\n",
       "      <td>2.690000</td>\n",
       "      <td>walking</td>\n",
       "    </tr>\n",
       "    <tr>\n",
       "      <th>479</th>\n",
       "      <td>32.67</td>\n",
       "      <td>3.09</td>\n",
       "      <td>18.67</td>\n",
       "      <td>0.470000</td>\n",
       "      <td>14.00</td>\n",
       "      <td>3.160000</td>\n",
       "      <td>walking</td>\n",
       "    </tr>\n",
       "  </tbody>\n",
       "</table>\n",
       "<p>42237 rows × 7 columns</p>\n",
       "</div>"
      ],
      "text/plain": [
       "     avg_rss12  var_rss12  avg_rss13  var_rss13  avg_rss23  var_rss23   target\n",
       "0        39.25       0.43      22.75   0.430000      33.75   1.300000  bending\n",
       "1        39.25       0.43      23.00   1.513225      33.00   1.631255  bending\n",
       "2        39.25       0.43      23.25   0.430000      33.00   1.631255  bending\n",
       "3        39.50       0.50      23.00   0.710000      33.00   1.631255  bending\n",
       "4        39.50       0.50      24.00   1.513225      33.00   1.631255  bending\n",
       "..         ...        ...        ...        ...        ...        ...      ...\n",
       "475      31.50       1.66      12.50   3.200000      14.25   4.440000  walking\n",
       "476      27.33       1.25      11.33   0.940000      20.00   4.000000  walking\n",
       "477      37.80       7.68      14.20   2.480000      17.25   0.830000  walking\n",
       "478      33.75       1.30      15.75   5.210000      16.50   2.690000  walking\n",
       "479      32.67       3.09      18.67   0.470000      14.00   3.160000  walking\n",
       "\n",
       "[42237 rows x 7 columns]"
      ]
     },
     "execution_count": 183,
     "metadata": {},
     "output_type": "execute_result"
    }
   ],
   "source": [
    "df_all"
   ]
  },
  {
   "cell_type": "code",
   "execution_count": 184,
   "metadata": {},
   "outputs": [
    {
     "data": {
      "text/html": [
       "<div>\n",
       "<style scoped>\n",
       "    .dataframe tbody tr th:only-of-type {\n",
       "        vertical-align: middle;\n",
       "    }\n",
       "\n",
       "    .dataframe tbody tr th {\n",
       "        vertical-align: top;\n",
       "    }\n",
       "\n",
       "    .dataframe thead th {\n",
       "        text-align: right;\n",
       "    }\n",
       "</style>\n",
       "<table border=\"1\" class=\"dataframe\">\n",
       "  <thead>\n",
       "    <tr style=\"text-align: right;\">\n",
       "      <th></th>\n",
       "      <th>count</th>\n",
       "      <th>mean</th>\n",
       "      <th>std</th>\n",
       "      <th>min</th>\n",
       "      <th>25%</th>\n",
       "      <th>50%</th>\n",
       "      <th>75%</th>\n",
       "      <th>max</th>\n",
       "    </tr>\n",
       "  </thead>\n",
       "  <tbody>\n",
       "    <tr>\n",
       "      <th>avg_rss12</th>\n",
       "      <td>42237.0</td>\n",
       "      <td>39.023105</td>\n",
       "      <td>6.255938</td>\n",
       "      <td>12.50</td>\n",
       "      <td>35.25</td>\n",
       "      <td>39.750000</td>\n",
       "      <td>43.75</td>\n",
       "      <td>56.25</td>\n",
       "    </tr>\n",
       "    <tr>\n",
       "      <th>var_rss12</th>\n",
       "      <td>42237.0</td>\n",
       "      <td>1.832098</td>\n",
       "      <td>1.875875</td>\n",
       "      <td>0.26</td>\n",
       "      <td>0.50</td>\n",
       "      <td>1.472967</td>\n",
       "      <td>1.79</td>\n",
       "      <td>17.24</td>\n",
       "    </tr>\n",
       "    <tr>\n",
       "      <th>avg_rss13</th>\n",
       "      <td>42237.0</td>\n",
       "      <td>14.464328</td>\n",
       "      <td>5.225144</td>\n",
       "      <td>1.00</td>\n",
       "      <td>11.75</td>\n",
       "      <td>15.000000</td>\n",
       "      <td>18.00</td>\n",
       "      <td>35.00</td>\n",
       "    </tr>\n",
       "    <tr>\n",
       "      <th>var_rss13</th>\n",
       "      <td>42237.0</td>\n",
       "      <td>1.808189</td>\n",
       "      <td>1.462711</td>\n",
       "      <td>0.24</td>\n",
       "      <td>0.71</td>\n",
       "      <td>1.513225</td>\n",
       "      <td>2.29</td>\n",
       "      <td>11.42</td>\n",
       "    </tr>\n",
       "    <tr>\n",
       "      <th>avg_rss23</th>\n",
       "      <td>42237.0</td>\n",
       "      <td>16.114887</td>\n",
       "      <td>6.605666</td>\n",
       "      <td>1.00</td>\n",
       "      <td>12.25</td>\n",
       "      <td>16.000000</td>\n",
       "      <td>19.25</td>\n",
       "      <td>40.33</td>\n",
       "    </tr>\n",
       "    <tr>\n",
       "      <th>var_rss23</th>\n",
       "      <td>42237.0</td>\n",
       "      <td>1.822051</td>\n",
       "      <td>1.524489</td>\n",
       "      <td>0.24</td>\n",
       "      <td>0.82</td>\n",
       "      <td>1.410000</td>\n",
       "      <td>2.29</td>\n",
       "      <td>13.61</td>\n",
       "    </tr>\n",
       "  </tbody>\n",
       "</table>\n",
       "</div>"
      ],
      "text/plain": [
       "             count       mean       std    min    25%        50%    75%    max\n",
       "avg_rss12  42237.0  39.023105  6.255938  12.50  35.25  39.750000  43.75  56.25\n",
       "var_rss12  42237.0   1.832098  1.875875   0.26   0.50   1.472967   1.79  17.24\n",
       "avg_rss13  42237.0  14.464328  5.225144   1.00  11.75  15.000000  18.00  35.00\n",
       "var_rss13  42237.0   1.808189  1.462711   0.24   0.71   1.513225   2.29  11.42\n",
       "avg_rss23  42237.0  16.114887  6.605666   1.00  12.25  16.000000  19.25  40.33\n",
       "var_rss23  42237.0   1.822051  1.524489   0.24   0.82   1.410000   2.29  13.61"
      ]
     },
     "execution_count": 184,
     "metadata": {},
     "output_type": "execute_result"
    }
   ],
   "source": [
    "df_all.describe().T"
   ]
  },
  {
   "cell_type": "code",
   "execution_count": 185,
   "metadata": {},
   "outputs": [
    {
     "data": {
      "text/plain": [
       "['avg_rss12', 'var_rss12', 'avg_rss13', 'var_rss13', 'avg_rss23', 'var_rss23']"
      ]
     },
     "execution_count": 185,
     "metadata": {},
     "output_type": "execute_result"
    }
   ],
   "source": [
    "df_all.shape[1]\n",
    "numerical_features"
   ]
  },
  {
   "cell_type": "code",
   "execution_count": 186,
   "metadata": {},
   "outputs": [],
   "source": [
    "def vif_score(x):\n",
    "    scaler = StandardScaler()\n",
    "    arr=scaler.fit_transform(x)\n",
    "    return pd.DataFrame([[x.columns[i],variance_inflation_factor(arr,i)] for i in range(arr.shape[1])],columns=['FEATURE','VIF_SCORE'])"
   ]
  },
  {
   "cell_type": "code",
   "execution_count": 187,
   "metadata": {},
   "outputs": [
    {
     "name": "stdout",
     "output_type": "stream",
     "text": [
      "     FEATURE  VIF_SCORE\n",
      "0  avg_rss12   1.188693\n",
      "1  var_rss12   1.513248\n",
      "2  avg_rss13   1.315090\n",
      "3  var_rss13   1.440020\n",
      "4  avg_rss23   1.280323\n",
      "5  var_rss23   1.495452\n"
     ]
    }
   ],
   "source": [
    "print(vif_score(df_all[numerical_features]))"
   ]
  },
  {
   "cell_type": "code",
   "execution_count": 316,
   "metadata": {
    "scrolled": true
   },
   "outputs": [
    {
     "data": {
      "text/plain": [
       "<AxesSubplot:>"
      ]
     },
     "execution_count": 316,
     "metadata": {},
     "output_type": "execute_result"
    },
    {
     "data": {
      "image/png": "[encoded data removed]",
      "text/plain": [
       "<Figure size 1440x1440 with 1 Axes>"
      ]
     },
     "metadata": {
      "needs_background": "light"
     },
     "output_type": "display_data"
    }
   ],
   "source": [
    "fig,ax = plt.subplots(figsize = (20,20))\n",
    "sns.boxplot(data=df_all,ax=ax,orient=\"h\")"
   ]
  },
  {
   "cell_type": "code",
   "execution_count": 315,
   "metadata": {},
   "outputs": [
    {
     "data": {
      "text/plain": [
       "Index(['avg_rss12', 'var_rss12', 'avg_rss13', 'var_rss13', 'avg_rss23',\n",
       "       'var_rss23', 'target'],\n",
       "      dtype='object')"
      ]
     },
     "execution_count": 315,
     "metadata": {},
     "output_type": "execute_result"
    }
   ],
   "source": [
    "df_all.columns"
   ]
  },
  {
   "cell_type": "code",
   "execution_count": 300,
   "metadata": {},
   "outputs": [
    {
     "name": "stdout",
     "output_type": "stream",
     "text": [
      "Outliers from IQR method:  [12.5, 12.75, 13.25, 13.75, 14.0, 14.0, 15.0, 15.0, 15.0, 15.25, 15.5, 15.75, 16.0, 16.75, 17.0, 17.0, 17.25, 17.25, 17.33, 17.5, 17.5, 17.5, 17.67, 18.0, 18.25, 18.25, 18.33, 18.33, 18.33, 18.5, 18.5, 18.5, 18.67, 18.67, 18.75, 18.75, 18.75, 19.0, 19.0, 19.0, 19.0, 19.0, 19.0, 19.0, 19.0, 19.0, 19.25, 19.25, 19.25, 19.25, 19.25, 19.33, 19.33, 19.33, 19.5, 19.5, 19.5, 19.5, 19.67, 19.75, 19.75, 20.0, 20.0, 20.0, 20.0, 20.0, 20.0, 20.0, 20.0, 20.25, 20.25, 20.25, 20.25, 20.25, 20.25, 20.25, 20.25, 20.25, 20.33, 20.33, 20.33, 20.33, 20.33, 20.33, 20.33, 20.5, 20.5, 20.5, 20.5, 20.5, 20.5, 20.5, 20.5, 20.5, 20.5, 20.5, 20.5, 20.5, 20.5, 20.67, 20.67, 20.67, 20.67, 20.67, 20.67, 20.67, 20.67, 20.67, 20.67, 20.67, 20.75, 20.75, 20.75, 20.75, 20.75, 20.75, 20.75, 20.75, 20.75, 20.75, 20.75, 20.75, 20.75, 20.75, 20.75, 20.75, 20.75, 20.75, 20.75, 20.75, 20.75, 20.75, 20.75, 21.0, 21.0, 21.0, 21.0, 21.0, 21.0, 21.0, 21.0, 21.0, 21.0, 21.0, 21.0, 21.0, 21.0, 21.0, 21.0, 21.0, 21.0, 21.0, 21.0, 21.0, 21.0, 21.0, 21.0, 21.0, 21.0, 21.0, 21.0, 21.0, 21.0, 21.0, 21.0, 21.0, 21.0, 21.0, 21.0, 21.0, 21.0, 21.0, 21.0, 21.0, 21.0, 21.0, 21.0, 21.0, 21.0, 21.0, 21.0, 21.0, 21.0, 21.0, 21.0, 21.0, 21.0, 21.0, 21.0, 21.0, 21.0, 21.0, 21.0, 21.0, 21.0, 21.0, 21.25, 21.25, 21.25, 21.25, 21.25, 21.25, 21.25, 21.25, 21.25, 21.25, 21.25, 21.25, 21.25, 21.25, 21.33, 21.33, 21.33, 21.33, 21.33, 21.33, 21.33, 21.33, 21.4, 21.5, 21.5, 21.5, 21.5, 21.5, 21.5, 21.5, 21.5, 21.5, 21.5, 21.5, 21.5, 21.5, 21.5, 21.5, 21.5, 21.5, 21.67, 21.67, 21.67, 21.67, 21.67, 21.67, 21.67, 21.67, 21.75, 21.75, 21.75, 21.75, 21.75, 21.75, 21.75, 21.75, 21.75, 21.75, 21.75, 21.75, 21.75, 21.75, 21.75, 21.75, 21.75, 21.75, 22.0, 22.0, 22.0, 22.0, 22.0, 22.0, 22.0, 22.0, 22.0, 22.0, 22.0, 22.0, 22.0, 22.0, 22.0, 22.0, 22.0, 22.0, 22.0, 22.0, 22.0, 22.0, 22.0, 22.0, 22.0, 22.0, 22.0, 22.0, 22.25, 22.25, 22.25, 22.25, 22.25, 22.25, 22.25, 22.25, 22.25, 22.25, 22.25, 22.25, 22.25, 22.25, 22.25, 22.33, 22.33, 22.33, 22.33, 22.33, 22.33, 22.33, 22.33]\n"
     ]
    }
   ],
   "source": [
    "outliers = []\n",
    "def detect_outliers_iqr(data):\n",
    "    data = sorted(data)\n",
    "    q1 = np.percentile(data, 25)\n",
    "    q3 = np.percentile(data, 75)\n",
    "    # print(q1, q3)\n",
    "    IQR = q3-q1\n",
    "    lwr_bound = q1-(1.5*IQR)\n",
    "    upr_bound = q3+(1.5*IQR)\n",
    "    # print(lwr_bound, upr_bound)\n",
    "    for i in data: \n",
    "        if (i<lwr_bound or i>upr_bound):\n",
    "            outliers.append(i)\n",
    "    return outliers\n",
    "\n",
    "# Driver code\n",
    "sample_outliers = detect_outliers_iqr(df_all[\"avg_rss12\"])\n",
    "print(\"Outliers from IQR method: \", sample_outliers)"
   ]
  },
  {
   "cell_type": "code",
   "execution_count": 232,
   "metadata": {},
   "outputs": [],
   "source": [
    "#df['avg_rss12']=pd.Series(b)"
   ]
  },
  {
   "cell_type": "code",
   "execution_count": 295,
   "metadata": {
    "run_control": {
     "marked": true
    }
   },
   "outputs": [
    {
     "data": {
      "text/plain": [
       "Text(0.5, 0, 'avg_rss12')"
      ]
     },
     "execution_count": 295,
     "metadata": {},
     "output_type": "execute_result"
    },
    {
     "data": {
      "image/png": "[encoded data removed]",
      "text/plain": [
       "<Figure size 432x288 with 1 Axes>"
      ]
     },
     "metadata": {
      "needs_background": "light"
     },
     "output_type": "display_data"
    }
   ],
   "source": [
    "ax = sns.boxplot(x=df_all[\"avg_rss12\"])\n",
    "ax.set_xlabel('avg_rss12')"
   ]
  },
  {
   "cell_type": "code",
   "execution_count": 195,
   "metadata": {},
   "outputs": [],
   "source": [
    "df_all_new = df_all.copy()"
   ]
  },
  {
   "cell_type": "code",
   "execution_count": 299,
   "metadata": {},
   "outputs": [
    {
     "data": {
      "text/plain": [
       "42237"
      ]
     },
     "execution_count": 299,
     "metadata": {},
     "output_type": "execute_result"
    }
   ],
   "source": [
    "len(df_all['avg_rss12'])"
   ]
  },
  {
   "cell_type": "code",
   "execution_count": 196,
   "metadata": {},
   "outputs": [
    {
     "data": {
      "text/plain": [
       "(42237, 7)"
      ]
     },
     "execution_count": 196,
     "metadata": {},
     "output_type": "execute_result"
    }
   ],
   "source": [
    "df_all_new.shape"
   ]
  },
  {
   "cell_type": "code",
   "execution_count": 197,
   "metadata": {},
   "outputs": [
    {
     "data": {
      "text/plain": [
       "(42237, 7)"
      ]
     },
     "execution_count": 197,
     "metadata": {},
     "output_type": "execute_result"
    }
   ],
   "source": [
    "df_all.shape"
   ]
  },
  {
   "cell_type": "code",
   "execution_count": 222,
   "metadata": {},
   "outputs": [
    {
     "name": "stdout",
     "output_type": "stream",
     "text": [
      "<class 'pandas.core.frame.DataFrame'>\n",
      "Int64Index: 42237 entries, 0 to 479\n",
      "Data columns (total 7 columns):\n",
      " #   Column     Non-Null Count  Dtype  \n",
      "---  ------     --------------  -----  \n",
      " 0   avg_rss12  42237 non-null  float64\n",
      " 1   var_rss12  42237 non-null  float64\n",
      " 2   avg_rss13  42237 non-null  float64\n",
      " 3   var_rss13  42237 non-null  float64\n",
      " 4   avg_rss23  42237 non-null  float64\n",
      " 5   var_rss23  42237 non-null  float64\n",
      " 6   target     42237 non-null  object \n",
      "dtypes: float64(6), object(1)\n",
      "memory usage: 2.6+ MB\n"
     ]
    }
   ],
   "source": [
    "df_all_new.info()"
   ]
  },
  {
   "cell_type": "code",
   "execution_count": 199,
   "metadata": {},
   "outputs": [
    {
     "name": "stdout",
     "output_type": "stream",
     "text": [
      "     FEATURE  VIF_SCORE\n",
      "0  avg_rss12   1.188693\n",
      "1  var_rss12   1.513248\n",
      "2  avg_rss13   1.315090\n",
      "3  var_rss13   1.440020\n",
      "4  avg_rss23   1.280323\n",
      "5  var_rss23   1.495452\n"
     ]
    }
   ],
   "source": [
    "print(vif_score(df_all[numerical_features]))"
   ]
  },
  {
   "cell_type": "code",
   "execution_count": 200,
   "metadata": {},
   "outputs": [],
   "source": [
    "enc = LabelEncoder()\n",
    "y = enc.fit_transform(df_all.target)"
   ]
  },
  {
   "cell_type": "code",
   "execution_count": 304,
   "metadata": {},
   "outputs": [],
   "source": [
    "x=df_all.drop(columns=['target'])"
   ]
  },
  {
   "cell_type": "code",
   "execution_count": 305,
   "metadata": {},
   "outputs": [
    {
     "data": {
      "text/html": [
       "<div>\n",
       "<style scoped>\n",
       "    .dataframe tbody tr th:only-of-type {\n",
       "        vertical-align: middle;\n",
       "    }\n",
       "\n",
       "    .dataframe tbody tr th {\n",
       "        vertical-align: top;\n",
       "    }\n",
       "\n",
       "    .dataframe thead th {\n",
       "        text-align: right;\n",
       "    }\n",
       "</style>\n",
       "<table border=\"1\" class=\"dataframe\">\n",
       "  <thead>\n",
       "    <tr style=\"text-align: right;\">\n",
       "      <th></th>\n",
       "      <th>avg_rss12</th>\n",
       "      <th>var_rss12</th>\n",
       "      <th>avg_rss13</th>\n",
       "      <th>var_rss13</th>\n",
       "      <th>avg_rss23</th>\n",
       "      <th>var_rss23</th>\n",
       "    </tr>\n",
       "  </thead>\n",
       "  <tbody>\n",
       "    <tr>\n",
       "      <th>0</th>\n",
       "      <td>39.25</td>\n",
       "      <td>0.43</td>\n",
       "      <td>22.75</td>\n",
       "      <td>0.430000</td>\n",
       "      <td>33.75</td>\n",
       "      <td>1.300000</td>\n",
       "    </tr>\n",
       "    <tr>\n",
       "      <th>1</th>\n",
       "      <td>39.25</td>\n",
       "      <td>0.43</td>\n",
       "      <td>23.00</td>\n",
       "      <td>1.513225</td>\n",
       "      <td>33.00</td>\n",
       "      <td>1.631255</td>\n",
       "    </tr>\n",
       "    <tr>\n",
       "      <th>2</th>\n",
       "      <td>39.25</td>\n",
       "      <td>0.43</td>\n",
       "      <td>23.25</td>\n",
       "      <td>0.430000</td>\n",
       "      <td>33.00</td>\n",
       "      <td>1.631255</td>\n",
       "    </tr>\n",
       "    <tr>\n",
       "      <th>3</th>\n",
       "      <td>39.50</td>\n",
       "      <td>0.50</td>\n",
       "      <td>23.00</td>\n",
       "      <td>0.710000</td>\n",
       "      <td>33.00</td>\n",
       "      <td>1.631255</td>\n",
       "    </tr>\n",
       "    <tr>\n",
       "      <th>4</th>\n",
       "      <td>39.50</td>\n",
       "      <td>0.50</td>\n",
       "      <td>24.00</td>\n",
       "      <td>1.513225</td>\n",
       "      <td>33.00</td>\n",
       "      <td>1.631255</td>\n",
       "    </tr>\n",
       "    <tr>\n",
       "      <th>...</th>\n",
       "      <td>...</td>\n",
       "      <td>...</td>\n",
       "      <td>...</td>\n",
       "      <td>...</td>\n",
       "      <td>...</td>\n",
       "      <td>...</td>\n",
       "    </tr>\n",
       "    <tr>\n",
       "      <th>475</th>\n",
       "      <td>31.50</td>\n",
       "      <td>1.66</td>\n",
       "      <td>12.50</td>\n",
       "      <td>3.200000</td>\n",
       "      <td>14.25</td>\n",
       "      <td>4.440000</td>\n",
       "    </tr>\n",
       "    <tr>\n",
       "      <th>476</th>\n",
       "      <td>27.33</td>\n",
       "      <td>1.25</td>\n",
       "      <td>11.33</td>\n",
       "      <td>0.940000</td>\n",
       "      <td>20.00</td>\n",
       "      <td>4.000000</td>\n",
       "    </tr>\n",
       "    <tr>\n",
       "      <th>477</th>\n",
       "      <td>37.80</td>\n",
       "      <td>7.68</td>\n",
       "      <td>14.20</td>\n",
       "      <td>2.480000</td>\n",
       "      <td>17.25</td>\n",
       "      <td>0.830000</td>\n",
       "    </tr>\n",
       "    <tr>\n",
       "      <th>478</th>\n",
       "      <td>33.75</td>\n",
       "      <td>1.30</td>\n",
       "      <td>15.75</td>\n",
       "      <td>5.210000</td>\n",
       "      <td>16.50</td>\n",
       "      <td>2.690000</td>\n",
       "    </tr>\n",
       "    <tr>\n",
       "      <th>479</th>\n",
       "      <td>32.67</td>\n",
       "      <td>3.09</td>\n",
       "      <td>18.67</td>\n",
       "      <td>0.470000</td>\n",
       "      <td>14.00</td>\n",
       "      <td>3.160000</td>\n",
       "    </tr>\n",
       "  </tbody>\n",
       "</table>\n",
       "<p>42237 rows × 6 columns</p>\n",
       "</div>"
      ],
      "text/plain": [
       "     avg_rss12  var_rss12  avg_rss13  var_rss13  avg_rss23  var_rss23\n",
       "0        39.25       0.43      22.75   0.430000      33.75   1.300000\n",
       "1        39.25       0.43      23.00   1.513225      33.00   1.631255\n",
       "2        39.25       0.43      23.25   0.430000      33.00   1.631255\n",
       "3        39.50       0.50      23.00   0.710000      33.00   1.631255\n",
       "4        39.50       0.50      24.00   1.513225      33.00   1.631255\n",
       "..         ...        ...        ...        ...        ...        ...\n",
       "475      31.50       1.66      12.50   3.200000      14.25   4.440000\n",
       "476      27.33       1.25      11.33   0.940000      20.00   4.000000\n",
       "477      37.80       7.68      14.20   2.480000      17.25   0.830000\n",
       "478      33.75       1.30      15.75   5.210000      16.50   2.690000\n",
       "479      32.67       3.09      18.67   0.470000      14.00   3.160000\n",
       "\n",
       "[42237 rows x 6 columns]"
      ]
     },
     "execution_count": 305,
     "metadata": {},
     "output_type": "execute_result"
    }
   ],
   "source": [
    "x"
   ]
  },
  {
   "cell_type": "code",
   "execution_count": 306,
   "metadata": {},
   "outputs": [
    {
     "data": {
      "text/plain": [
       "array([0, 0, 0, 0, 0, 0, 0, 0, 0, 0, 0, 0, 0, 0, 0, 0, 0, 0, 0, 0, 0, 0,\n",
       "       0, 0, 0, 0, 0, 0, 0, 0, 0, 0, 0, 0, 0, 0, 0, 0, 0, 0, 0, 0, 0, 0,\n",
       "       0, 0, 0, 0, 0, 0])"
      ]
     },
     "execution_count": 306,
     "metadata": {},
     "output_type": "execute_result"
    }
   ],
   "source": [
    "y[:50]"
   ]
  },
  {
   "cell_type": "code",
   "execution_count": 307,
   "metadata": {},
   "outputs": [],
   "source": [
    "x_train,x_test,y_train,y_test=train_test_split(x,y,test_size=0.20,random_state=144,stratify=y)"
   ]
  },
  {
   "cell_type": "code",
   "execution_count": 308,
   "metadata": {},
   "outputs": [
    {
     "name": "stdout",
     "output_type": "stream",
     "text": [
      "x_train.shape (33789, 6)\n",
      "x_test.shape (8448, 6)\n",
      "y_train.shape (33789,)\n",
      "y_test.shape (8448,)\n"
     ]
    }
   ],
   "source": [
    "print('x_train.shape',x_train.shape)\n",
    "print('x_test.shape',x_test.shape)\n",
    "print('y_train.shape',y_train.shape)\n",
    "print('y_test.shape',y_test.shape)"
   ]
  },
  {
   "cell_type": "code",
   "execution_count": 309,
   "metadata": {},
   "outputs": [],
   "source": [
    "#'sag', 'saga' and 'newton-cg' "
   ]
  },
  {
   "cell_type": "code",
   "execution_count": 312,
   "metadata": {},
   "outputs": [
    {
     "name": "stderr",
     "output_type": "stream",
     "text": [
      "C:\\ProgramData\\Anaconda3\\lib\\site-packages\\sklearn\\linear_model\\_sag.py:329: ConvergenceWarning: The max_iter was reached which means the coef_ did not converge\n",
      "  warnings.warn(\"The max_iter was reached which means \"\n"
     ]
    },
    {
     "data": {
      "text/plain": [
       "LogisticRegression(solver='saga')"
      ]
     },
     "execution_count": 312,
     "metadata": {},
     "output_type": "execute_result"
    }
   ],
   "source": [
    "logr = LogisticRegression(solver='saga')\n",
    "logr.fit(x_train,y_train)"
   ]
  },
  {
   "cell_type": "code",
   "execution_count": 313,
   "metadata": {},
   "outputs": [
    {
     "data": {
      "text/plain": [
       "0.6348248106060606"
      ]
     },
     "execution_count": 313,
     "metadata": {},
     "output_type": "execute_result"
    }
   ],
   "source": [
    "logr.score(x_test, y_test)"
   ]
  },
  {
   "cell_type": "code",
   "execution_count": 317,
   "metadata": {},
   "outputs": [
    {
     "data": {
      "text/plain": [
       "Text(0.5, 117.59999999999997, 'Predicted label')"
      ]
     },
     "execution_count": 317,
     "metadata": {},
     "output_type": "execute_result"
    },
    {
     "data": {
      "image/png": "[encoded data removed]",
      "text/plain": [
       "<Figure size 720x720 with 2 Axes>"
      ]
     },
     "metadata": {
      "needs_background": "light"
     },
     "output_type": "display_data"
    }
   ],
   "source": [
    "plt.figure(figsize=(10, 10))\n",
    "cm = confusion_matrix(y_test, logr.predict(x_test))\n",
    "cm_normalized = cm.astype('float') / cm.sum(axis=1)[:, np.newaxis]\n",
    "plt.imshow(cm_normalized, interpolation='nearest')\n",
    "plt.title(\"confusion matrix\")\n",
    "plt.colorbar(shrink=0.3)\n",
    "plt.tight_layout()\n",
    "plt.ylabel('True label')\n",
    "plt.xlabel('Predicted label')"
   ]
  },
  {
   "cell_type": "code",
   "execution_count": 323,
   "metadata": {},
   "outputs": [
    {
     "name": "stdout",
     "output_type": "stream",
     "text": [
      "classification_report:               precision    recall  f1-score   support\n",
      "\n",
      "           0       0.73      0.69      0.71      1248\n",
      "           1       0.60      0.60      0.60      1440\n",
      "           2       0.74      0.83      0.78      1440\n",
      "           3       0.44      0.44      0.44      1440\n",
      "           4       0.63      0.60      0.62      1440\n",
      "           5       0.68      0.66      0.67      1440\n",
      "\n",
      "    accuracy                           0.63      8448\n",
      "   macro avg       0.64      0.64      0.64      8448\n",
      "weighted avg       0.63      0.63      0.63      8448\n",
      "\n",
      "accuracy_score: 0.6348248106060606\n",
      "confusion_matrix: [[ 860   46   34  279    2   27]\n",
      " [  72  861    5   89   11  402]\n",
      " [  26    2 1190   72  137   13]\n",
      " [ 196   48  204  633  354    5]\n",
      " [   7   18  182  360  869    4]\n",
      " [  25  450    0   13    2  950]]\n"
     ]
    }
   ],
   "source": [
    "y_pred = logr.predict(x_test)\n",
    "\n",
    "print(\"classification_report:\", classification_report(y_test, y_pred))\n",
    "print(\"accuracy_score:\",accuracy_score(y_test,y_pred))\n",
    "print(\"confusion_matrix:\", confusion_matrix(y_test, y_pred))"
   ]
  },
  {
   "cell_type": "markdown",
   "metadata": {},
   "source": [
    "**Observations**"
   ]
  },
  {
   "cell_type": "markdown",
   "metadata": {},
   "source": [
    "- \"# Columns: time\" feature can be removed as this will not contribute to model training.\n",
    "- avg_rss12, var_rss12,avg_rss13, var_rss13, avg_rss23,and var_rss23 have null values and zeros\n",
    "- avg_rss12, var_rss12, var_rss13, avg_rss23,and var_rss23 features have outliers.\n",
    "- avg_rss13 has outliers, but it negligible. \n",
    "- Used labelencoder to encode the target \n",
    "- vif score is less than 10 hence not need to remove any feature."
   ]
  },
  {
   "cell_type": "code",
   "execution_count": null,
   "metadata": {},
   "outputs": [],
   "source": []
  }
 ],
 "metadata": {
  "interpreter": {
   "hash": "b3ba2566441a7c06988d0923437866b63cedc61552a5af99d1f4fb67d367b25f"
  },
  "kernelspec": {
   "display_name": "Python 3",
   "language": "python",
   "name": "python3"
  },
  "language_info": {
   "codemirror_mode": {
    "name": "ipython",
    "version": 3
   },
   "file_extension": ".py",
   "mimetype": "text/x-python",
   "name": "python",
   "nbconvert_exporter": "python",
   "pygments_lexer": "ipython3",
   "version": "3.8.5"
  }
 },
 "nbformat": 4,
 "nbformat_minor": 4
}
